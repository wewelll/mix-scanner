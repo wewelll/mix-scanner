{
 "cells": [
  {
   "cell_type": "code",
   "execution_count": 1,
   "metadata": {},
   "outputs": [],
   "source": [
    "import os\n",
    "import sys\n",
    "module_path = os.path.abspath(os.path.join('./mix_scanner'))\n",
    "if module_path not in sys.path:\n",
    "    sys.path.append(module_path)\n"
   ]
  },
  {
   "cell_type": "code",
   "execution_count": 2,
   "metadata": {},
   "outputs": [],
   "source": [
    "from pydub import AudioSegment\n",
    "\n",
    "song = AudioSegment.from_mp3(\"./mixs/Massi In The Mix (Live in Berlin Sept. 2014).mp3\")"
   ]
  },
  {
   "cell_type": "code",
   "execution_count": 3,
   "metadata": {},
   "outputs": [],
   "source": [
    "from mix_scanner.infrastructure.shazam_scanner import ShazamScanner\n",
    "\n",
    "shazam_scanner = ShazamScanner()\n"
   ]
  },
  {
   "cell_type": "code",
   "execution_count": 4,
   "metadata": {},
   "outputs": [],
   "source": [
    "tracklist = await shazam_scanner.scan(song)"
   ]
  },
  {
   "cell_type": "code",
   "execution_count": 7,
   "metadata": {},
   "outputs": [
    {
     "name": "stdout",
     "output_type": "stream",
     "text": [
      "[ScannedTrack(timestamp=60000, title='The Part of (Extended Version)', artist='Virger'), ScannedTrack(timestamp=120000, title='Annunaki', artist='Martziano'), ScannedTrack(timestamp=180000, title=\"Djiki'n (feat. Rokia Traoré) [Remix by Manoo & Rocco]\", artist='Erik Truffaz'), ScannedTrack(timestamp=240000, title='Polegate', artist='Wulfe'), ScannedTrack(timestamp=360000, title='All I Need (Roman Flügel Remix)', artist='Daniel Avery'), ScannedTrack(timestamp=1620000, title='Coiled in the Mist', artist='MrS4turn9'), ScannedTrack(timestamp=1800000, title='Into the Blue (Jayeson Andel Remix)', artist='Hazem Beltagui'), ScannedTrack(timestamp=1920000, title='Through the Door', artist='Nick Chacona'), ScannedTrack(timestamp=2340000, title='Soul City', artist='FAT V'), ScannedTrack(timestamp=2460000, title='Astronomia (Dance Mix)', artist='Josh Nor'), ScannedTrack(timestamp=2580000, title='Exchoing Abyss', artist='Synth flavored trees'), ScannedTrack(timestamp=2700000, title='I Thought Your Love', artist='Todd Terry Presents Fingertrips'), ScannedTrack(timestamp=3480000, title='Hyperbolic Curve & Refresh', artist='Mindfulness Amenity Life Laboratory'), ScannedTrack(timestamp=5280000, title='Sound Meditation VIII', artist='Matthew Barlow'), ScannedTrack(timestamp=5580000, title=\"I'll Say a Prayer 4 U\", artist='Equation'), ScannedTrack(timestamp=5820000, title='Get In 2 the Music (Joey Negro Chicago Tribute Mix)', artist='Z Factor & Dave Lee'), ScannedTrack(timestamp=5880000, title='Ludwig Part', artist='Magic Robot'), ScannedTrack(timestamp=6420000, title='Your Best Side (Club Mix)', artist='BSJ The Black Legend'), ScannedTrack(timestamp=6480000, title='Dance With Me', artist='Sound Stream'), ScannedTrack(timestamp=6660000, title='Lake Shore Drive', artist='Theo Parrish'), ScannedTrack(timestamp=7080000, title='Salim Frank Town Musicians (Club Mix)', artist='Salim Frank'), ScannedTrack(timestamp=7200000, title='Brothers & Sisters (Radio Mix)', artist='Michi Lange'), ScannedTrack(timestamp=7320000, title='Sweet Music (feat. Alec Sun Drae) [Playmaker Dub]', artist='Groove Invaderz'), ScannedTrack(timestamp=7920000, title='Anna Maria', artist='Doncler'), ScannedTrack(timestamp=8460000, title='Conjure Superstar', artist='Maceo Plex'), ScannedTrack(timestamp=8820000, title=\"It's a Crime (Caribou Remix)\", artist='Virgo Four'), ScannedTrack(timestamp=10140000, title='Sideral (feat. John Talabot & Axel Boman) [BCN Version]', artist='Talaboman'), ScannedTrack(timestamp=10740000, title='Quinque', artist='Tomislav Kanizaj'), ScannedTrack(timestamp=10860000, title=\"Nightfeelin'\", artist='Fake doll Nott'), ScannedTrack(timestamp=11280000, title='Let The Music Use You', artist='The Nightwriters'), ScannedTrack(timestamp=11760000, title='Mezmerized (Red Roche & Dave Armstrong Dub Mix)', artist='The Click'), ScannedTrack(timestamp=11820000, title='Atonal', artist='Erick Jackson'), ScannedTrack(timestamp=11880000, title='Yura (Soundprank Remix)', artist='Max Freegrant'), ScannedTrack(timestamp=12120000, title='Search', artist='ROBY'), ScannedTrack(timestamp=12540000, title='Wassup', artist='Drogao'), ScannedTrack(timestamp=12720000, title='Your Love Away (with Jules Etienne) [Bonus Instrumental]', artist='Massimiliano Pagliara'), ScannedTrack(timestamp=12900000, title='Europa', artist='Franko Ovalles'), ScannedTrack(timestamp=12960000, title=\"Let's Be Happy\", artist='Zoofy Shella'), ScannedTrack(timestamp=13260000, title='Viaje Sin Rumbo (feat. Gunther Robles)', artist='Alan & Passhe'), ScannedTrack(timestamp=13680000, title='Varsovie', artist='Brodka'), ScannedTrack(timestamp=13800000, title='Format C', artist='Drauf & Dran'), ScannedTrack(timestamp=13920000, title=\"Don't Stop the Dance (Todd Terje Remix)\", artist='Bryan Ferry')]\n"
     ]
    }
   ],
   "source": [
    "from mix_scanner.utils import format_tracklist\n",
    "\n",
    "print(format_tracklist(tracklist))"
   ]
  },
  {
   "cell_type": "code",
   "execution_count": null,
   "metadata": {},
   "outputs": [],
   "source": []
  }
 ],
 "metadata": {
  "kernelspec": {
   "display_name": ".venv",
   "language": "python",
   "name": "python3"
  },
  "language_info": {
   "codemirror_mode": {
    "name": "ipython",
    "version": 3
   },
   "file_extension": ".py",
   "mimetype": "text/x-python",
   "name": "python",
   "nbconvert_exporter": "python",
   "pygments_lexer": "ipython3",
   "version": "3.11.1"
  },
  "orig_nbformat": 4
 },
 "nbformat": 4,
 "nbformat_minor": 2
}
