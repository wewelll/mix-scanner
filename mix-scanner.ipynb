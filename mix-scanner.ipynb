{
 "cells": [
  {
   "cell_type": "code",
   "execution_count": 24,
   "metadata": {},
   "outputs": [],
   "source": [
    "import os\n",
    "import sys\n",
    "module_path = os.path.abspath(os.path.join('./mix_scanner'))\n",
    "if module_path not in sys.path:\n",
    "    sys.path.append(module_path)\n"
   ]
  },
  {
   "cell_type": "code",
   "execution_count": 25,
   "metadata": {},
   "outputs": [],
   "source": [
    "from pydub import AudioSegment\n",
    "\n",
    "song = AudioSegment.from_mp3(\"./mixs/Massi In The Mix (Live in Berlin Sept. 2014).mp3\")"
   ]
  },
  {
   "cell_type": "code",
   "execution_count": 26,
   "metadata": {},
   "outputs": [],
   "source": [
    "from mix_scanner.infrastructure.shazam_scanner import ShazamScanner,ShazamScannerParameters\n",
    "\n",
    "shazam_scanner = ShazamScanner(\n",
    "    ShazamScannerParameters(\n",
    "        scan_every=30*1000,\n",
    "        scan_for=5*1000\n",
    "    )\n",
    ")\n"
   ]
  },
  {
   "cell_type": "code",
   "execution_count": 27,
   "metadata": {},
   "outputs": [],
   "source": [
    "tracklist = await shazam_scanner.scan(song)"
   ]
  },
  {
   "cell_type": "code",
   "execution_count": 29,
   "metadata": {},
   "outputs": [
    {
     "name": "stdout",
     "output_type": "stream",
     "text": [
      "Virger - The Part of (Extended Version) [0:1:0]\n",
      "Alessandro Martire - Shadows of Desire (Havoc & Lawn Extended Remix) [0:1:30]\n",
      "Martziano - Annunaki [0:2:0]\n",
      "Alexandro Korzh - Night Life (Radio Edit) [0:2:30]\n",
      "Erik Truffaz - Djiki'n (feat. Rokia Traoré) [Remix by Manoo & Rocco] [0:3:0]\n",
      "Deu - Ancient Power (Anthony Godwin Remix) [0:3:30]\n",
      "Wulfe - Polegate [0:4:0]\n",
      "Bryan Matthz - Rockleider [0:4:30]\n",
      "Daniel Avery - All I Need (Roman Flügel Remix) [0:5:30]\n",
      "Scott Dunning - Red Shadow and Green [0:7:30]\n",
      "Scape One & Kurt Baggaley - Demands of Intimacy [0:14:30]\n",
      "Fregantino - Makala (Live) [0:21:30]\n",
      "Stephan Seddel - Fliegen [0:22:30]\n",
      "Pat d'hautcourt, Els brodelet & F. Deschryver - Rave in wonderland [0:25:30]\n",
      "MrS4turn9 - Coiled in the Mist [0:27:0]\n",
      "Paul A. Jackson - Dusk City [0:29:30]\n",
      "Hazem Beltagui - Into the Blue (Jayeson Andel Remix) [0:30:0]\n",
      "Nick Chacona - Through the Door [0:32:0]\n",
      "FAT V - Soul City [0:38:30]\n",
      "Joe Garston - Top of the World [0:40:30]\n",
      "Josh Nor - Astronomia (Dance Mix) [0:41:0]\n",
      "Grieflines - We Are All Here [0:41:30]\n",
      "Synth flavored trees - Exchoing Abyss [0:43:0]\n",
      "Todd Terry Presents Fingertrips - I Thought Your Love [0:45:0]\n",
      "Zohki - After That [0:56:30]\n",
      "Mindfulness Amenity Life Laboratory - Hyperbolic Curve & Refresh [0:58:0]\n",
      "Davis - Sequences of Fools [1:1:30]\n",
      "Pattern 1 - Mirage (Nu Ground Foundation Classic Mix) [1:15:30]\n",
      "Eris Drew - Hold Me (T4T Embrace Mix) [1:22:30]\n",
      "Matthew Barlow - Sound Meditation VIII [1:28:0]\n",
      "Lazercat - Nuit blanche (Original Mix) [1:28:30]\n",
      "Equation - I'll Say a Prayer 4 U [1:32:30]\n",
      "Z Factor & Dave Lee - Get In 2 the Music (Joey Negro Chicago Tribute Mix) [1:37:0]\n",
      "Magic Robot - Ludwig Part [1:38:0]\n",
      "Sound Stream - Dance With Me [1:46:30]\n",
      "BSJ The Black Legend - Your Best Side (Club Mix) [1:47:0]\n",
      "Theo Parrish - Lake Shore Drive [1:50:30]\n",
      "Christopher Cross - Ride Like the Wind [1:54:30]\n",
      "Salim Frank - Salim Frank Town Musicians (Club Mix) [1:58:0]\n",
      "Michi Lange - Brothers & Sisters (Radio Mix) [2:0:0]\n",
      "Groove Invaderz - Sweet Music (feat. Alec Sun Drae) [Playmaker Dub] [2:2:0]\n",
      "Doncler - Anna Maria [2:12:0]\n",
      "Maceo Plex - Conjure Superstar [2:21:0]\n",
      "Virgo Four - It's a Crime (Caribou Remix) [2:26:30]\n",
      "The Reoner & Muksell - Metropolis [2:45:30]\n",
      "Talaboman - Sideral (feat. John Talabot & Axel Boman) [BCN Version] [2:48:30]\n",
      "Nick Klein - French - Property.Com [2:52:30]\n",
      "Colonial One & Quizzow - Solaria (Che Jose Remix) [2:54:30]\n",
      "Tomislav Kanizaj - Quinque [2:59:0]\n",
      "Fake doll Nott - Nightfeelin' [3:1:0]\n",
      "The Nightwriters - Let The Music Use You [3:8:0]\n",
      "Sygma - Flashlights (Intro Mix) [3:14:30]\n",
      "DBNHAN - New Start [3:15:30]\n",
      "The Click - Mezmerized (Red Roche & Dave Armstrong Dub Mix) [3:16:0]\n",
      "Erick Jackson - Atonal [3:17:0]\n",
      "Simon Shackleton - Afterglow [3:17:30]\n",
      "Max Freegrant - Yura (Soundprank Remix) [3:18:0]\n",
      "Nail - Optimus [3:18:30]\n",
      "Joris Voorn - Afterlife [3:20:30]\n",
      "ROBY - Search [3:22:0]\n",
      "George Strezov - H3po4 [3:28:30]\n",
      "Drogao - Wassup [3:29:0]\n",
      "Chris Ojeda - Maelstrom [3:30:30]\n",
      "Pastel Turtle - Into the Dream [3:31:30]\n",
      "Massimiliano Pagliara - Your Love Away (with Jules Etienne) [Bonus Instrumental] [3:32:0]\n",
      "Virgil Fox - Toccata In F [3:34:30]\n",
      "Franko Ovalles - Europa [3:35:0]\n",
      "Jeffrey Koepper - Mercury Circuit [3:35:30]\n",
      "Zoofy Shella - Let's Be Happy [3:36:0]\n",
      "Alan & Passhe - Viaje Sin Rumbo (feat. Gunther Robles) [3:41:0]\n",
      "Brodka - Varsovie [3:48:0]\n",
      "Drauf & Dran - Format C [3:50:0]\n",
      "Junk Yard Rhythm Section - Falling [3:50:30]\n",
      "Bryan Ferry - Don't Stop the Dance (Todd Terje Remix) [3:52:0]\n"
     ]
    }
   ],
   "source": [
    "from mix_scanner.utils import format_tracklist\n",
    "\n",
    "print(format_tracklist(tracklist))"
   ]
  },
  {
   "cell_type": "code",
   "execution_count": null,
   "metadata": {},
   "outputs": [],
   "source": []
  }
 ],
 "metadata": {
  "kernelspec": {
   "display_name": ".venv",
   "language": "python",
   "name": "python3"
  },
  "language_info": {
   "codemirror_mode": {
    "name": "ipython",
    "version": 3
   },
   "file_extension": ".py",
   "mimetype": "text/x-python",
   "name": "python",
   "nbconvert_exporter": "python",
   "pygments_lexer": "ipython3",
   "version": "3.11.1"
  },
  "orig_nbformat": 4
 },
 "nbformat": 4,
 "nbformat_minor": 2
}
